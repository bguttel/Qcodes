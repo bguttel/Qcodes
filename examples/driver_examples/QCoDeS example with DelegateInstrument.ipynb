{
 "cells": [
  {
   "cell_type": "markdown",
   "id": "plain-primary",
   "metadata": {},
   "source": [
    "# Qcodes example with DelegateInstrument driver\n",
    "\n",
    "This notebooks explains how to use the `DelegateInstrument` driver.\n",
    "\n",
    "## About\n",
    "The goal of the `DelegateInstrument` driver is to make it easier to combine different parameters together into a new \"virtual\" instrument. Each parameter on a `DelegateInstrument` can point to one or more parameters on other instruments in the station.\n",
    "\n",
    "## Usage\n",
    "The way it's used is mainly by specifying an entry in the station YAML. For instance, let's say you want to use a magnetic field coil. The driver has a method set_field(value, block), that by default is set to block=True, which means the field is ramped in a way that blocks further execution until the desired value is reached. However, let's say you are creating a measurement in which you want the parameter to be set, and while the value is ramping, you want to measure other parameters. This can be done by using `DelegateInstrument` and specifying a custom `setter` for the parameter that gets and sets the magnetic field.\n",
    "\n",
    "By default, each parameter is represented by a `DelegateParameter`. The `DelegateInstrument` also supports passing multiple source parameters to a given parameter. In order to do this, simply specify multiple parameters in the dictionary values  under the `parameters` key.\n",
    "\n",
    "It can also add instrument channels, specified under a separate key `channels`, shown in the second half of the notebook."
   ]
  },
  {
   "cell_type": "code",
   "execution_count": 1,
   "id": "sapphire-quebec",
   "metadata": {
    "execution": {
     "iopub.execute_input": "2022-07-01T14:59:02.488890Z",
     "iopub.status.busy": "2022-07-01T14:59:02.488640Z",
     "iopub.status.idle": "2022-07-01T14:59:02.497491Z",
     "shell.execute_reply": "2022-07-01T14:59:02.496814Z"
    }
   },
   "outputs": [
    {
     "name": "stdout",
     "output_type": "stream",
     "text": [
      "Writing example.yaml\n"
     ]
    }
   ],
   "source": [
    "%%writefile example.yaml\n",
    "\n",
    "instruments:\n",
    "  field_X:\n",
    "    type: qcodes.tests.instrument_mocks.MockField\n",
    "\n",
    "  field:\n",
    "    type: qcodes.instrument.delegate.DelegateInstrument\n",
    "    init:\n",
    "      parameters:\n",
    "        X:\n",
    "          - field_X.field\n",
    "        ramp_rate:\n",
    "          - field_X.ramp_rate\n",
    "        combined:\n",
    "          - field_X.field\n",
    "          - field_X.ramp_rate\n",
    "      set_initial_values_on_load: true\n",
    "      initial_values:\n",
    "        ramp_rate: 1.0\n",
    "      setters:\n",
    "        X:\n",
    "          method: field_X.set_field\n",
    "          block: false"
   ]
  },
  {
   "cell_type": "code",
   "execution_count": 2,
   "id": "younger-newspaper",
   "metadata": {
    "execution": {
     "iopub.execute_input": "2022-07-01T14:59:02.500381Z",
     "iopub.status.busy": "2022-07-01T14:59:02.500169Z",
     "iopub.status.idle": "2022-07-01T14:59:03.584861Z",
     "shell.execute_reply": "2022-07-01T14:59:03.584220Z"
    }
   },
   "outputs": [],
   "source": [
    "import qcodes as qc"
   ]
  },
  {
   "cell_type": "code",
   "execution_count": 3,
   "id": "muslim-briefs",
   "metadata": {
    "execution": {
     "iopub.execute_input": "2022-07-01T14:59:03.588845Z",
     "iopub.status.busy": "2022-07-01T14:59:03.588231Z",
     "iopub.status.idle": "2022-07-01T14:59:03.603434Z",
     "shell.execute_reply": "2022-07-01T14:59:03.602866Z"
    }
   },
   "outputs": [],
   "source": [
    "station = qc.Station(config_file=\"example.yaml\")"
   ]
  },
  {
   "cell_type": "code",
   "execution_count": 4,
   "id": "greatest-antenna",
   "metadata": {
    "execution": {
     "iopub.execute_input": "2022-07-01T14:59:03.607441Z",
     "iopub.status.busy": "2022-07-01T14:59:03.606231Z",
     "iopub.status.idle": "2022-07-01T14:59:03.633691Z",
     "shell.execute_reply": "2022-07-01T14:59:03.633096Z"
    }
   },
   "outputs": [],
   "source": [
    "field_X = station.load_field_X()\n",
    "field = station.load_field(station=station)"
   ]
  },
  {
   "cell_type": "code",
   "execution_count": 5,
   "id": "every-playing",
   "metadata": {
    "execution": {
     "iopub.execute_input": "2022-07-01T14:59:03.636590Z",
     "iopub.status.busy": "2022-07-01T14:59:03.636366Z",
     "iopub.status.idle": "2022-07-01T14:59:03.647060Z",
     "shell.execute_reply": "2022-07-01T14:59:03.646488Z"
    }
   },
   "outputs": [
    {
     "data": {
      "text/plain": [
       "0.0"
      ]
     },
     "execution_count": 5,
     "metadata": {},
     "output_type": "execute_result"
    }
   ],
   "source": [
    "field.X()"
   ]
  },
  {
   "cell_type": "code",
   "execution_count": 6,
   "id": "undefined-worst",
   "metadata": {
    "execution": {
     "iopub.execute_input": "2022-07-01T14:59:03.650064Z",
     "iopub.status.busy": "2022-07-01T14:59:03.649845Z",
     "iopub.status.idle": "2022-07-01T14:59:03.653870Z",
     "shell.execute_reply": "2022-07-01T14:59:03.653318Z"
    }
   },
   "outputs": [],
   "source": [
    "field.X(1.)"
   ]
  },
  {
   "cell_type": "code",
   "execution_count": 7,
   "id": "recreational-suggestion",
   "metadata": {
    "execution": {
     "iopub.execute_input": "2022-07-01T14:59:03.656418Z",
     "iopub.status.busy": "2022-07-01T14:59:03.656203Z",
     "iopub.status.idle": "2022-07-01T14:59:03.661878Z",
     "shell.execute_reply": "2022-07-01T14:59:03.661353Z"
    }
   },
   "outputs": [
    {
     "data": {
      "text/plain": [
       "0.00010416507720947265"
      ]
     },
     "execution_count": 7,
     "metadata": {},
     "output_type": "execute_result"
    }
   ],
   "source": [
    "field.X()"
   ]
  },
  {
   "cell_type": "code",
   "execution_count": 8,
   "id": "adopted-exchange",
   "metadata": {
    "execution": {
     "iopub.execute_input": "2022-07-01T14:59:03.664535Z",
     "iopub.status.busy": "2022-07-01T14:59:03.664329Z",
     "iopub.status.idle": "2022-07-01T14:59:03.669332Z",
     "shell.execute_reply": "2022-07-01T14:59:03.668703Z"
    }
   },
   "outputs": [
    {
     "data": {
      "text/plain": [
       "0.0002393921216328939"
      ]
     },
     "execution_count": 8,
     "metadata": {},
     "output_type": "execute_result"
    }
   ],
   "source": [
    "field.X()"
   ]
  },
  {
   "cell_type": "code",
   "execution_count": 9,
   "id": "bound-broadcasting",
   "metadata": {
    "execution": {
     "iopub.execute_input": "2022-07-01T14:59:03.671985Z",
     "iopub.status.busy": "2022-07-01T14:59:03.671776Z",
     "iopub.status.idle": "2022-07-01T14:59:03.675695Z",
     "shell.execute_reply": "2022-07-01T14:59:03.675086Z"
    }
   },
   "outputs": [
    {
     "data": {
      "text/plain": [
       "0.00036355257034301756"
      ]
     },
     "execution_count": 9,
     "metadata": {},
     "output_type": "execute_result"
    }
   ],
   "source": [
    "field.X()"
   ]
  },
  {
   "cell_type": "code",
   "execution_count": 10,
   "id": "casual-ghost",
   "metadata": {
    "execution": {
     "iopub.execute_input": "2022-07-01T14:59:03.678818Z",
     "iopub.status.busy": "2022-07-01T14:59:03.678599Z",
     "iopub.status.idle": "2022-07-01T14:59:03.682415Z",
     "shell.execute_reply": "2022-07-01T14:59:03.681797Z"
    }
   },
   "outputs": [
    {
     "data": {
      "text/plain": [
       "0.0004772226015726725"
      ]
     },
     "execution_count": 10,
     "metadata": {},
     "output_type": "execute_result"
    }
   ],
   "source": [
    "field.X()"
   ]
  },
  {
   "cell_type": "markdown",
   "id": "alike-process",
   "metadata": {},
   "source": [
    "As you can see, the field is now ramped in the background with the specified ramp rate. Now, let's try to create a measurement that uses this ability, and ramps the field in the background while measuring:"
   ]
  },
  {
   "cell_type": "code",
   "execution_count": 11,
   "id": "sustained-tiger",
   "metadata": {
    "execution": {
     "iopub.execute_input": "2022-07-01T14:59:03.685645Z",
     "iopub.status.busy": "2022-07-01T14:59:03.685436Z",
     "iopub.status.idle": "2022-07-01T14:59:03.691107Z",
     "shell.execute_reply": "2022-07-01T14:59:03.690564Z"
    }
   },
   "outputs": [],
   "source": [
    "field.ramp_rate(10.)\n",
    "field_X.field(0.0)"
   ]
  },
  {
   "cell_type": "code",
   "execution_count": 12,
   "id": "pharmaceutical-partition",
   "metadata": {
    "execution": {
     "iopub.execute_input": "2022-07-01T14:59:03.693718Z",
     "iopub.status.busy": "2022-07-01T14:59:03.693507Z",
     "iopub.status.idle": "2022-07-01T14:59:03.697310Z",
     "shell.execute_reply": "2022-07-01T14:59:03.696701Z"
    }
   },
   "outputs": [
    {
     "data": {
      "text/plain": [
       "0.0"
      ]
     },
     "execution_count": 12,
     "metadata": {},
     "output_type": "execute_result"
    }
   ],
   "source": [
    "field.X()"
   ]
  },
  {
   "cell_type": "code",
   "execution_count": 13,
   "id": "happy-ordinance",
   "metadata": {
    "execution": {
     "iopub.execute_input": "2022-07-01T14:59:03.700433Z",
     "iopub.status.busy": "2022-07-01T14:59:03.700214Z",
     "iopub.status.idle": "2022-07-01T14:59:04.925624Z",
     "shell.execute_reply": "2022-07-01T14:59:04.924318Z"
    }
   },
   "outputs": [
    {
     "name": "stdout",
     "output_type": "stream",
     "text": [
      "Starting experimental run with id: 60. \n"
     ]
    }
   ],
   "source": [
    "import time\n",
    "meas = qc.Measurement(station=station)\n",
    "meas.register_parameter(field.X)\n",
    "\n",
    "with meas.run() as datasaver:\n",
    "    for B in [0.1, 0.0]:\n",
    "        field.X(B)\n",
    "        while field.X() != B:\n",
    "            datasaver.add_result((field.X, field.X()))\n",
    "            time.sleep(0.01)\n",
    "    datasaver.flush_data_to_database()"
   ]
  },
  {
   "cell_type": "code",
   "execution_count": 14,
   "id": "short-medium",
   "metadata": {
    "execution": {
     "iopub.execute_input": "2022-07-01T14:59:04.929319Z",
     "iopub.status.busy": "2022-07-01T14:59:04.928938Z",
     "iopub.status.idle": "2022-07-01T14:59:05.092166Z",
     "shell.execute_reply": "2022-07-01T14:59:05.091575Z"
    }
   },
   "outputs": [
    {
     "data": {
      "text/plain": [
       "<AxesSubplot:>"
      ]
     },
     "execution_count": 14,
     "metadata": {},
     "output_type": "execute_result"
    },
    {
     "data": {
      "image/png": "[encoded data removed]",
      "text/plain": [
       "<Figure size 432x288 with 1 Axes>"
      ]
     },
     "metadata": {
      "needs_background": "light"
     },
     "output_type": "display_data"
    }
   ],
   "source": [
    "datasaver.dataset.to_pandas_dataframe().plot()"
   ]
  },
  {
   "cell_type": "markdown",
   "id": "incomplete-vietnamese",
   "metadata": {},
   "source": [
    "When specifying multiple source parameters on a given parameter, the grouped parameter will automatically return a `namedtuple` that returns both values."
   ]
  },
  {
   "cell_type": "code",
   "execution_count": 15,
   "id": "dangerous-finder",
   "metadata": {
    "execution": {
     "iopub.execute_input": "2022-07-01T14:59:05.095731Z",
     "iopub.status.busy": "2022-07-01T14:59:05.095388Z",
     "iopub.status.idle": "2022-07-01T14:59:05.100197Z",
     "shell.execute_reply": "2022-07-01T14:59:05.099585Z"
    }
   },
   "outputs": [
    {
     "data": {
      "text/plain": [
       "combined(field=0.0, ramp_rate=10.0)"
      ]
     },
     "execution_count": 15,
     "metadata": {},
     "output_type": "execute_result"
    }
   ],
   "source": [
    "field.combined()"
   ]
  },
  {
   "cell_type": "markdown",
   "id": "consolidated-cooper",
   "metadata": {},
   "source": [
    "We can now also create a custom parameter that does a simple calculation based on the current parameters."
   ]
  },
  {
   "cell_type": "code",
   "execution_count": 16,
   "id": "designed-bloom",
   "metadata": {
    "execution": {
     "iopub.execute_input": "2022-07-01T14:59:05.103059Z",
     "iopub.status.busy": "2022-07-01T14:59:05.102837Z",
     "iopub.status.idle": "2022-07-01T14:59:05.106470Z",
     "shell.execute_reply": "2022-07-01T14:59:05.105837Z"
    }
   },
   "outputs": [],
   "source": [
    "import numpy as np\n",
    "\n",
    "def calculate_ramp_time(X, ramp_rate):\n",
    "    \"\"\"Calculate ramp time in seconds\"\"\"\n",
    "    dfield = np.abs(field.target_field - X)\n",
    "    return 60. * dfield/ramp_rate"
   ]
  },
  {
   "cell_type": "code",
   "execution_count": 17,
   "id": "disabled-logic",
   "metadata": {
    "execution": {
     "iopub.execute_input": "2022-07-01T14:59:05.109100Z",
     "iopub.status.busy": "2022-07-01T14:59:05.108890Z",
     "iopub.status.idle": "2022-07-01T14:59:05.112310Z",
     "shell.execute_reply": "2022-07-01T14:59:05.111688Z"
    },
    "scrolled": true
   },
   "outputs": [],
   "source": [
    "field._create_and_add_parameter(\n",
    "    group_name=\"ramp_time\",\n",
    "    station=station,\n",
    "    paths=[\"field_X.field\", \"field_X.ramp_rate\"],\n",
    "    formatter=calculate_ramp_time\n",
    ")"
   ]
  },
  {
   "cell_type": "code",
   "execution_count": 18,
   "id": "adverse-february",
   "metadata": {
    "execution": {
     "iopub.execute_input": "2022-07-01T14:59:05.114943Z",
     "iopub.status.busy": "2022-07-01T14:59:05.114721Z",
     "iopub.status.idle": "2022-07-01T14:59:05.119043Z",
     "shell.execute_reply": "2022-07-01T14:59:05.118453Z"
    }
   },
   "outputs": [
    {
     "data": {
      "text/plain": [
       "6.0"
      ]
     },
     "execution_count": 18,
     "metadata": {},
     "output_type": "execute_result"
    }
   ],
   "source": [
    "field.ramp_rate(1.0)\n",
    "field.target_field = 0.1\n",
    "field.ramp_time()"
   ]
  },
  {
   "cell_type": "code",
   "execution_count": 19,
   "id": "statutory-xerox",
   "metadata": {
    "execution": {
     "iopub.execute_input": "2022-07-01T14:59:05.122135Z",
     "iopub.status.busy": "2022-07-01T14:59:05.121926Z",
     "iopub.status.idle": "2022-07-01T14:59:05.124823Z",
     "shell.execute_reply": "2022-07-01T14:59:05.124205Z"
    }
   },
   "outputs": [],
   "source": [
    "field.X(0.1)"
   ]
  },
  {
   "cell_type": "code",
   "execution_count": 20,
   "id": "varying-auditor",
   "metadata": {
    "execution": {
     "iopub.execute_input": "2022-07-01T14:59:05.127437Z",
     "iopub.status.busy": "2022-07-01T14:59:05.127223Z",
     "iopub.status.idle": "2022-07-01T14:59:05.131209Z",
     "shell.execute_reply": "2022-07-01T14:59:05.130604Z"
    }
   },
   "outputs": [
    {
     "data": {
      "text/plain": [
       "5.994750738143921"
      ]
     },
     "execution_count": 20,
     "metadata": {},
     "output_type": "execute_result"
    }
   ],
   "source": [
    "field.ramp_time()"
   ]
  },
  {
   "cell_type": "code",
   "execution_count": 21,
   "id": "chubby-nickel",
   "metadata": {
    "execution": {
     "iopub.execute_input": "2022-07-01T14:59:05.134375Z",
     "iopub.status.busy": "2022-07-01T14:59:05.134163Z",
     "iopub.status.idle": "2022-07-01T14:59:06.140199Z",
     "shell.execute_reply": "2022-07-01T14:59:06.139514Z"
    }
   },
   "outputs": [
    {
     "data": {
      "text/plain": [
       "4.986265659332275"
      ]
     },
     "execution_count": 21,
     "metadata": {},
     "output_type": "execute_result"
    }
   ],
   "source": [
    "import time\n",
    "time.sleep(1.)\n",
    "field.ramp_time()"
   ]
  },
  {
   "cell_type": "code",
   "execution_count": 22,
   "id": "italian-liberty",
   "metadata": {
    "execution": {
     "iopub.execute_input": "2022-07-01T14:59:06.143145Z",
     "iopub.status.busy": "2022-07-01T14:59:06.142914Z",
     "iopub.status.idle": "2022-07-01T14:59:07.148655Z",
     "shell.execute_reply": "2022-07-01T14:59:07.147973Z"
    }
   },
   "outputs": [
    {
     "data": {
      "text/plain": [
       "3.9775900840759277"
      ]
     },
     "execution_count": 22,
     "metadata": {},
     "output_type": "execute_result"
    }
   ],
   "source": [
    "import time\n",
    "time.sleep(1.)\n",
    "field.ramp_time()"
   ]
  },
  {
   "cell_type": "markdown",
   "id": "edc4f5ae",
   "metadata": {},
   "source": [
    "# Devices with channels"
   ]
  },
  {
   "cell_type": "markdown",
   "id": "306932cd",
   "metadata": {},
   "source": [
    "The YAML file below specifies the instruments with the channels/parameters we wish to group into a new instrument, here called \"device\". The first example simply adds the channel 'as is' using self.add_submodule, while the readout parameter is added as a DelegateParameter."
   ]
  },
  {
   "cell_type": "code",
   "execution_count": 23,
   "id": "a3962628",
   "metadata": {
    "execution": {
     "iopub.execute_input": "2022-07-01T14:59:07.151801Z",
     "iopub.status.busy": "2022-07-01T14:59:07.151556Z",
     "iopub.status.idle": "2022-07-01T14:59:07.155662Z",
     "shell.execute_reply": "2022-07-01T14:59:07.155025Z"
    }
   },
   "outputs": [
    {
     "name": "stdout",
     "output_type": "stream",
     "text": [
      "Overwriting example.yaml\n"
     ]
    }
   ],
   "source": [
    "%%writefile example.yaml\n",
    "\n",
    "instruments:\n",
    "  lockin:\n",
    "    type: qcodes.tests.instrument_mocks.MockLockin\n",
    "\n",
    "  dac:\n",
    "    type: qcodes.tests.instrument_mocks.MockDAC   \n",
    "\n",
    "  device:\n",
    "    type: qcodes.instrument.delegate.DelegateInstrument\n",
    "    init:\n",
    "      parameters:\n",
    "        readout: lockin.X\n",
    "      channels:\n",
    "        gate_1: dac.ch01\n",
    "      set_initial_values_on_load: true\n",
    "      initial_values:\n",
    "        readout: 1e-5\n",
    "        gate_1.voltage.post_delay: 0.01"
   ]
  },
  {
   "cell_type": "code",
   "execution_count": 24,
   "id": "dec5e5ba",
   "metadata": {
    "execution": {
     "iopub.execute_input": "2022-07-01T14:59:07.159013Z",
     "iopub.status.busy": "2022-07-01T14:59:07.158791Z",
     "iopub.status.idle": "2022-07-01T14:59:07.170648Z",
     "shell.execute_reply": "2022-07-01T14:59:07.170080Z"
    }
   },
   "outputs": [],
   "source": [
    "station = qc.Station(config_file=\"example.yaml\")"
   ]
  },
  {
   "cell_type": "code",
   "execution_count": 25,
   "id": "da74237a",
   "metadata": {
    "execution": {
     "iopub.execute_input": "2022-07-01T14:59:07.173349Z",
     "iopub.status.busy": "2022-07-01T14:59:07.173105Z",
     "iopub.status.idle": "2022-07-01T14:59:07.207506Z",
     "shell.execute_reply": "2022-07-01T14:59:07.206931Z"
    }
   },
   "outputs": [],
   "source": [
    "lockin = station.load_lockin()\n",
    "dac = station.load_dac()\n",
    "device = station.load_device(station=station)"
   ]
  },
  {
   "cell_type": "code",
   "execution_count": 26,
   "id": "fd26a9fc",
   "metadata": {
    "execution": {
     "iopub.execute_input": "2022-07-01T14:59:07.210277Z",
     "iopub.status.busy": "2022-07-01T14:59:07.210059Z",
     "iopub.status.idle": "2022-07-01T14:59:07.213450Z",
     "shell.execute_reply": "2022-07-01T14:59:07.212786Z"
    }
   },
   "outputs": [
    {
     "name": "stdout",
     "output_type": "stream",
     "text": [
      "<MockDACChannel: dac_ch01 of MockDAC: dac>\n",
      "0.01\n"
     ]
    }
   ],
   "source": [
    "print(device.gate_1)\n",
    "print(device.gate_1.voltage.post_delay)"
   ]
  },
  {
   "cell_type": "code",
   "execution_count": 27,
   "id": "3bd5ca41",
   "metadata": {
    "execution": {
     "iopub.execute_input": "2022-07-01T14:59:07.216834Z",
     "iopub.status.busy": "2022-07-01T14:59:07.216611Z",
     "iopub.status.idle": "2022-07-01T14:59:07.231410Z",
     "shell.execute_reply": "2022-07-01T14:59:07.230786Z"
    }
   },
   "outputs": [
    {
     "name": "stdout",
     "output_type": "stream",
     "text": [
      "0.0\n"
     ]
    },
    {
     "data": {
      "text/plain": [
       "-0.6"
      ]
     },
     "execution_count": 27,
     "metadata": {},
     "output_type": "execute_result"
    }
   ],
   "source": [
    "print(device.gate_1.voltage())\n",
    "device.gate_1.voltage(-0.6)\n",
    "device.gate_1.voltage()"
   ]
  },
  {
   "cell_type": "markdown",
   "id": "c6db936e",
   "metadata": {},
   "source": [
    "The second example adds a channel using a custom channel class, which takes the initial channel and its name as input and has a parameter current_valid_ranges."
   ]
  },
  {
   "cell_type": "code",
   "execution_count": 28,
   "id": "bed8b791",
   "metadata": {
    "execution": {
     "iopub.execute_input": "2022-07-01T14:59:07.234531Z",
     "iopub.status.busy": "2022-07-01T14:59:07.234294Z",
     "iopub.status.idle": "2022-07-01T14:59:07.238284Z",
     "shell.execute_reply": "2022-07-01T14:59:07.237636Z"
    }
   },
   "outputs": [
    {
     "name": "stdout",
     "output_type": "stream",
     "text": [
      "Overwriting example.yaml\n"
     ]
    }
   ],
   "source": [
    "%%writefile example.yaml\n",
    "\n",
    "instruments:\n",
    "  lockin:\n",
    "    type: qcodes.tests.instrument_mocks.MockLockin\n",
    "\n",
    "  dac:\n",
    "    type: qcodes.tests.instrument_mocks.MockDAC   \n",
    "\n",
    "  device:\n",
    "    type: qcodes.instrument.delegate.DelegateInstrument\n",
    "    init:\n",
    "      parameters:\n",
    "        readout: lockin.X\n",
    "      channels:\n",
    "        type: qcodes.tests.instrument_mocks.MockCustomChannel\n",
    "        gate_1: \n",
    "          channel: dac.ch01\n",
    "          current_valid_range: [-0.5, 0]\n",
    "      set_initial_values_on_load: true\n",
    "      initial_values:\n",
    "        readout: 1e-5"
   ]
  },
  {
   "cell_type": "code",
   "execution_count": 29,
   "id": "30e8326f",
   "metadata": {
    "execution": {
     "iopub.execute_input": "2022-07-01T14:59:07.241469Z",
     "iopub.status.busy": "2022-07-01T14:59:07.241237Z",
     "iopub.status.idle": "2022-07-01T14:59:07.244275Z",
     "shell.execute_reply": "2022-07-01T14:59:07.243654Z"
    }
   },
   "outputs": [],
   "source": [
    "lockin.close()\n",
    "dac.close()"
   ]
  },
  {
   "cell_type": "code",
   "execution_count": 30,
   "id": "e4a342b1",
   "metadata": {
    "execution": {
     "iopub.execute_input": "2022-07-01T14:59:07.246991Z",
     "iopub.status.busy": "2022-07-01T14:59:07.246773Z",
     "iopub.status.idle": "2022-07-01T14:59:07.282864Z",
     "shell.execute_reply": "2022-07-01T14:59:07.282277Z"
    }
   },
   "outputs": [],
   "source": [
    "station = qc.Station(config_file=\"example.yaml\")\n",
    "lockin = station.load_lockin()\n",
    "dac = station.load_dac()"
   ]
  },
  {
   "cell_type": "code",
   "execution_count": 31,
   "id": "694d383b",
   "metadata": {
    "execution": {
     "iopub.execute_input": "2022-07-01T14:59:07.285515Z",
     "iopub.status.busy": "2022-07-01T14:59:07.285300Z",
     "iopub.status.idle": "2022-07-01T14:59:07.298472Z",
     "shell.execute_reply": "2022-07-01T14:59:07.297900Z"
    }
   },
   "outputs": [],
   "source": [
    "device = station.load_device(station=station)"
   ]
  },
  {
   "cell_type": "code",
   "execution_count": 32,
   "id": "98fdf689",
   "metadata": {
    "execution": {
     "iopub.execute_input": "2022-07-01T14:59:07.301070Z",
     "iopub.status.busy": "2022-07-01T14:59:07.300848Z",
     "iopub.status.idle": "2022-07-01T14:59:07.304959Z",
     "shell.execute_reply": "2022-07-01T14:59:07.304337Z"
    }
   },
   "outputs": [
    {
     "data": {
      "text/plain": [
       "<MockCustomChannel: dac_gate_1 of MockDAC: dac>"
      ]
     },
     "execution_count": 32,
     "metadata": {},
     "output_type": "execute_result"
    }
   ],
   "source": [
    "device.gate_1"
   ]
  },
  {
   "cell_type": "code",
   "execution_count": 33,
   "id": "230a8ce7",
   "metadata": {
    "execution": {
     "iopub.execute_input": "2022-07-01T14:59:07.308267Z",
     "iopub.status.busy": "2022-07-01T14:59:07.308052Z",
     "iopub.status.idle": "2022-07-01T14:59:07.311072Z",
     "shell.execute_reply": "2022-07-01T14:59:07.310422Z"
    }
   },
   "outputs": [],
   "source": [
    "device.gate_1.voltage(-0.3)"
   ]
  },
  {
   "cell_type": "code",
   "execution_count": 34,
   "id": "4fcb862b",
   "metadata": {
    "execution": {
     "iopub.execute_input": "2022-07-01T14:59:07.313744Z",
     "iopub.status.busy": "2022-07-01T14:59:07.313530Z",
     "iopub.status.idle": "2022-07-01T14:59:07.317481Z",
     "shell.execute_reply": "2022-07-01T14:59:07.316840Z"
    }
   },
   "outputs": [
    {
     "data": {
      "text/plain": [
       "-0.3"
      ]
     },
     "execution_count": 34,
     "metadata": {},
     "output_type": "execute_result"
    }
   ],
   "source": [
    "device.gate_1.voltage()"
   ]
  },
  {
   "cell_type": "markdown",
   "id": "d745586a",
   "metadata": {},
   "source": [
    "The MockCustomChannel has a parameter `current_valid_range`."
   ]
  },
  {
   "cell_type": "code",
   "execution_count": 35,
   "id": "fad8b09c",
   "metadata": {
    "execution": {
     "iopub.execute_input": "2022-07-01T14:59:07.320789Z",
     "iopub.status.busy": "2022-07-01T14:59:07.320565Z",
     "iopub.status.idle": "2022-07-01T14:59:07.324689Z",
     "shell.execute_reply": "2022-07-01T14:59:07.324063Z"
    }
   },
   "outputs": [
    {
     "data": {
      "text/plain": [
       "[-0.5, 0]"
      ]
     },
     "execution_count": 35,
     "metadata": {},
     "output_type": "execute_result"
    }
   ],
   "source": [
    "device.gate_1.current_valid_range()"
   ]
  }
 ],
 "metadata": {
  "kernelspec": {
   "display_name": "Python 3.7.9 64-bit ('qcodes_fork': conda)",
   "name": "python379jvsc74a57bd02b540bc2d5f6bd8c1d4c354bd6559a26f5871610d8f84463e1d37eff37c7ba44"
  },
  "language_info": {
   "codemirror_mode": {
    "name": "ipython",
    "version": 3
   },
   "file_extension": ".py",
   "mimetype": "text/x-python",
   "name": "python",
   "nbconvert_exporter": "python",
   "pygments_lexer": "ipython3",
   "version": "3.9.13"
  }
 },
 "nbformat": 4,
 "nbformat_minor": 5
}
