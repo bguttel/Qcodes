{
 "cells": [
  {
   "cell_type": "markdown",
   "metadata": {},
   "source": [
    "# DataSet Performance\n",
    "\n",
    "This notebook shows the trade-off between inserting data into a database row-by-row and as binary blobs. Inserting the data row-by-row means that we have direct access to all the data and may perform queries directly on the values of the data. On the other hand, as we shall see, this is much slower than inserting the data directly as binary blobs."
   ]
  },
  {
   "cell_type": "markdown",
   "metadata": {},
   "source": [
    "First, we choose a new location for the database to ensure that we don't add a bunch of benchmarking data to the default one."
   ]
  },
  {
   "cell_type": "code",
   "execution_count": 1,
   "metadata": {
    "execution": {
     "iopub.execute_input": "2022-07-01T14:53:25.726124Z",
     "iopub.status.busy": "2022-07-01T14:53:25.725871Z",
     "iopub.status.idle": "2022-07-01T14:53:26.812125Z",
     "shell.execute_reply": "2022-07-01T14:53:26.811487Z"
    }
   },
   "outputs": [],
   "source": [
    "import os\n",
    "cwd = os.getcwd()\n",
    "import qcodes as qc\n",
    "qc.config[\"core\"][\"db_location\"] = os.path.join(cwd, 'testing.db')\n"
   ]
  },
  {
   "cell_type": "code",
   "execution_count": 2,
   "metadata": {
    "execution": {
     "iopub.execute_input": "2022-07-01T14:53:26.815588Z",
     "iopub.status.busy": "2022-07-01T14:53:26.815231Z",
     "iopub.status.idle": "2022-07-01T14:53:26.828012Z",
     "shell.execute_reply": "2022-07-01T14:53:26.827436Z"
    }
   },
   "outputs": [],
   "source": [
    "%matplotlib inline\n",
    "import time\n",
    "import matplotlib.pyplot as plt\n",
    "import numpy as np\n",
    "\n",
    "import qcodes as qc\n",
    "from qcodes.instrument.parameter import ManualParameter\n",
    "from qcodes.dataset.experiment_container import (Experiment,\n",
    "                                                 load_last_experiment,\n",
    "                                                 new_experiment)\n",
    "from qcodes.dataset.sqlite.database import initialise_database\n",
    "from qcodes import load_or_create_experiment\n",
    "from qcodes.dataset.measurements import Measurement"
   ]
  },
  {
   "cell_type": "code",
   "execution_count": 3,
   "metadata": {
    "execution": {
     "iopub.execute_input": "2022-07-01T14:53:26.830733Z",
     "iopub.status.busy": "2022-07-01T14:53:26.830524Z",
     "iopub.status.idle": "2022-07-01T14:53:26.936851Z",
     "shell.execute_reply": "2022-07-01T14:53:26.936225Z"
    }
   },
   "outputs": [
    {
     "name": "stdout",
     "output_type": "stream",
     "text": [
      "\r",
      "0it [00:00, ?it/s]"
     ]
    },
    {
     "name": "stdout",
     "output_type": "stream",
     "text": [
      "\r",
      "Upgrading database; v0 -> v1: : 0it [00:00, ?it/s]"
     ]
    },
    {
     "name": "stdout",
     "output_type": "stream",
     "text": [
      "\r",
      "Upgrading database; v0 -> v1: : 0it [00:00, ?it/s]"
     ]
    },
    {
     "name": "stdout",
     "output_type": "stream",
     "text": [
      "\n"
     ]
    },
    {
     "name": "stdout",
     "output_type": "stream",
     "text": [
      "\r",
      "  0%|          | 0/1 [00:00<?, ?it/s]"
     ]
    },
    {
     "name": "stdout",
     "output_type": "stream",
     "text": [
      "\r",
      "Upgrading database; v1 -> v2:   0%|          | 0/1 [00:00<?, ?it/s]"
     ]
    },
    {
     "name": "stdout",
     "output_type": "stream",
     "text": [
      "\r",
      "Upgrading database; v1 -> v2: 100%|██████████| 1/1 [00:00<00:00, 1168.98it/s]"
     ]
    },
    {
     "name": "stdout",
     "output_type": "stream",
     "text": [
      "\n"
     ]
    },
    {
     "name": "stdout",
     "output_type": "stream",
     "text": [
      "\r",
      "0it [00:00, ?it/s]"
     ]
    },
    {
     "name": "stdout",
     "output_type": "stream",
     "text": [
      "\r",
      "Upgrading database; v2 -> v3: : 0it [00:00, ?it/s]"
     ]
    },
    {
     "name": "stdout",
     "output_type": "stream",
     "text": [
      "\r",
      "Upgrading database; v2 -> v3: : 0it [00:00, ?it/s]"
     ]
    },
    {
     "name": "stdout",
     "output_type": "stream",
     "text": [
      "\n"
     ]
    },
    {
     "name": "stdout",
     "output_type": "stream",
     "text": [
      "\r",
      "0it [00:00, ?it/s]"
     ]
    },
    {
     "name": "stdout",
     "output_type": "stream",
     "text": [
      "\r",
      "Upgrading database; v3 -> v4: : 0it [00:00, ?it/s]"
     ]
    },
    {
     "name": "stdout",
     "output_type": "stream",
     "text": [
      "\r",
      "Upgrading database; v3 -> v4: : 0it [00:00, ?it/s]"
     ]
    },
    {
     "name": "stdout",
     "output_type": "stream",
     "text": [
      "\n"
     ]
    },
    {
     "name": "stdout",
     "output_type": "stream",
     "text": [
      "\r",
      "  0%|          | 0/1 [00:00<?, ?it/s]"
     ]
    },
    {
     "name": "stdout",
     "output_type": "stream",
     "text": [
      "\r",
      "Upgrading database; v4 -> v5:   0%|          | 0/1 [00:00<?, ?it/s]"
     ]
    },
    {
     "name": "stdout",
     "output_type": "stream",
     "text": [
      "\r",
      "Upgrading database; v4 -> v5: 100%|██████████| 1/1 [00:00<00:00, 576.06it/s]"
     ]
    },
    {
     "name": "stdout",
     "output_type": "stream",
     "text": [
      "\n"
     ]
    },
    {
     "name": "stdout",
     "output_type": "stream",
     "text": [
      "\r",
      "0it [00:00, ?it/s]"
     ]
    },
    {
     "name": "stdout",
     "output_type": "stream",
     "text": [
      "\r",
      "Upgrading database; v5 -> v6: : 0it [00:00, ?it/s]"
     ]
    },
    {
     "name": "stdout",
     "output_type": "stream",
     "text": [
      "\r",
      "Upgrading database; v5 -> v6: : 0it [00:00, ?it/s]"
     ]
    },
    {
     "name": "stdout",
     "output_type": "stream",
     "text": [
      "\n"
     ]
    },
    {
     "name": "stdout",
     "output_type": "stream",
     "text": [
      "\r",
      "  0%|          | 0/1 [00:00<?, ?it/s]"
     ]
    },
    {
     "name": "stdout",
     "output_type": "stream",
     "text": [
      "\r",
      "Upgrading database; v6 -> v7:   0%|          | 0/1 [00:00<?, ?it/s]"
     ]
    },
    {
     "name": "stdout",
     "output_type": "stream",
     "text": [
      "\r",
      "Upgrading database; v6 -> v7: 100%|██████████| 1/1 [00:00<00:00, 604.11it/s]"
     ]
    },
    {
     "name": "stdout",
     "output_type": "stream",
     "text": [
      "\n"
     ]
    },
    {
     "name": "stdout",
     "output_type": "stream",
     "text": [
      "\r",
      "  0%|          | 0/1 [00:00<?, ?it/s]"
     ]
    },
    {
     "name": "stdout",
     "output_type": "stream",
     "text": [
      "\r",
      "Upgrading database; v7 -> v8:   0%|          | 0/1 [00:00<?, ?it/s]"
     ]
    },
    {
     "name": "stdout",
     "output_type": "stream",
     "text": [
      "\r",
      "Upgrading database; v7 -> v8: 100%|██████████| 1/1 [00:00<00:00, 1039.22it/s]"
     ]
    },
    {
     "name": "stdout",
     "output_type": "stream",
     "text": [
      "\n"
     ]
    },
    {
     "name": "stdout",
     "output_type": "stream",
     "text": [
      "\r",
      "  0%|          | 0/1 [00:00<?, ?it/s]"
     ]
    },
    {
     "name": "stdout",
     "output_type": "stream",
     "text": [
      "\r",
      "Upgrading database; v8 -> v9:   0%|          | 0/1 [00:00<?, ?it/s]"
     ]
    },
    {
     "name": "stdout",
     "output_type": "stream",
     "text": [
      "\r",
      "Upgrading database; v8 -> v9: 100%|██████████| 1/1 [00:00<00:00, 1001.74it/s]"
     ]
    },
    {
     "name": "stdout",
     "output_type": "stream",
     "text": [
      "\n"
     ]
    }
   ],
   "source": [
    "initialise_database()\n",
    "exp = load_or_create_experiment(experiment_name='tutorial_exp', sample_name=\"no sample\")"
   ]
  },
  {
   "cell_type": "markdown",
   "metadata": {},
   "source": [
    "Here, we define a simple function to benchmark the time it takes to insert n points with either numeric or array data type.\n",
    "We will compare both the time used to call ``add_result`` and the time used for the full measurement."
   ]
  },
  {
   "cell_type": "code",
   "execution_count": 4,
   "metadata": {
    "execution": {
     "iopub.execute_input": "2022-07-01T14:53:26.940474Z",
     "iopub.status.busy": "2022-07-01T14:53:26.939947Z",
     "iopub.status.idle": "2022-07-01T14:53:26.948051Z",
     "shell.execute_reply": "2022-07-01T14:53:26.947489Z"
    }
   },
   "outputs": [],
   "source": [
    "def insert_data(paramtype, npoints, nreps=1):\n",
    "\n",
    "    meas = Measurement(exp=exp)\n",
    "\n",
    "    x1 = ManualParameter('x1')\n",
    "    x2 = ManualParameter('x2')\n",
    "    x3 = ManualParameter('x3')\n",
    "    y1 = ManualParameter('y1')\n",
    "    y2 = ManualParameter('y2')\n",
    "\n",
    "    meas.register_parameter(x1, paramtype=paramtype)\n",
    "    meas.register_parameter(x2, paramtype=paramtype)\n",
    "    meas.register_parameter(x3, paramtype=paramtype)\n",
    "    meas.register_parameter(y1, setpoints=[x1, x2, x3],\n",
    "                            paramtype=paramtype)\n",
    "    meas.register_parameter(y2, setpoints=[x1, x2, x3],\n",
    "                            paramtype=paramtype)\n",
    "    start = time.perf_counter()\n",
    "    with meas.run() as datasaver:\n",
    "        start_adding = time.perf_counter()\n",
    "        for i in range(nreps):\n",
    "            datasaver.add_result((x1, np.random.rand(npoints)),\n",
    "                                 (x2, np.random.rand(npoints)),\n",
    "                                 (x3, np.random.rand(npoints)),\n",
    "                                 (y1, np.random.rand(npoints)),\n",
    "                                 (y2, np.random.rand(npoints)))\n",
    "        stop_adding = time.perf_counter()\n",
    "        run_id = datasaver.run_id\n",
    "    stop = time.perf_counter()\n",
    "    tot_time = stop - start\n",
    "    add_time = stop_adding - start_adding\n",
    "    return tot_time, add_time, run_id"
   ]
  },
  {
   "cell_type": "markdown",
   "metadata": {},
   "source": [
    "## Comparison between numeric/array data and binary blob"
   ]
  },
  {
   "cell_type": "markdown",
   "metadata": {},
   "source": [
    "### Case1: Short experiment time"
   ]
  },
  {
   "cell_type": "code",
   "execution_count": 5,
   "metadata": {
    "execution": {
     "iopub.execute_input": "2022-07-01T14:53:26.950906Z",
     "iopub.status.busy": "2022-07-01T14:53:26.950691Z",
     "iopub.status.idle": "2022-07-01T14:53:27.426131Z",
     "shell.execute_reply": "2022-07-01T14:53:27.425585Z"
    }
   },
   "outputs": [
    {
     "name": "stdout",
     "output_type": "stream",
     "text": [
      "Starting experimental run with id: 1. \n",
      "Starting experimental run with id: 2. \n",
      "Starting experimental run with id: 3. \n",
      "Starting experimental run with id: 4. \n",
      "Starting experimental run with id: 5. \n"
     ]
    },
    {
     "name": "stdout",
     "output_type": "stream",
     "text": [
      "Starting experimental run with id: 6. \n"
     ]
    },
    {
     "name": "stdout",
     "output_type": "stream",
     "text": [
      "Starting experimental run with id: 7. \n"
     ]
    },
    {
     "name": "stdout",
     "output_type": "stream",
     "text": [
      "Starting experimental run with id: 8. \n"
     ]
    },
    {
     "name": "stdout",
     "output_type": "stream",
     "text": [
      "Starting experimental run with id: 9. \n"
     ]
    },
    {
     "name": "stdout",
     "output_type": "stream",
     "text": [
      "Starting experimental run with id: 10. \n",
      "Starting experimental run with id: 11. \n"
     ]
    },
    {
     "name": "stdout",
     "output_type": "stream",
     "text": [
      "Starting experimental run with id: 12. \n",
      "Starting experimental run with id: 13. \n"
     ]
    },
    {
     "name": "stdout",
     "output_type": "stream",
     "text": [
      "Starting experimental run with id: 14. \n"
     ]
    }
   ],
   "source": [
    "sizes = [1,500,1000,2000,3000,4000,5000]\n",
    "t_numeric = []\n",
    "t_numeric_add = []\n",
    "t_array = []\n",
    "t_array_add = []\n",
    "for size in sizes:\n",
    "    tn, tna, run_id_n =  insert_data('numeric', size)\n",
    "    t_numeric.append(tn)\n",
    "    t_numeric_add.append(tna)\n",
    "\n",
    "    ta, taa, run_id_a =  insert_data('array', size)\n",
    "    t_array.append(ta)\n",
    "    t_array_add.append(taa)"
   ]
  },
  {
   "cell_type": "code",
   "execution_count": 6,
   "metadata": {
    "execution": {
     "iopub.execute_input": "2022-07-01T14:53:27.429196Z",
     "iopub.status.busy": "2022-07-01T14:53:27.428967Z",
     "iopub.status.idle": "2022-07-01T14:53:27.573559Z",
     "shell.execute_reply": "2022-07-01T14:53:27.572935Z"
    }
   },
   "outputs": [
    {
     "data": {
      "image/png": "[encoded data removed]",
      "text/plain": [
       "<Figure size 432x288 with 1 Axes>"
      ]
     },
     "metadata": {
      "needs_background": "light"
     },
     "output_type": "display_data"
    }
   ],
   "source": [
    "fig, ax = plt.subplots(1,1)\n",
    "ax.plot(sizes, t_numeric, 'o-', label='Inserting row-by-row')\n",
    "ax.plot(sizes, t_numeric_add, 'o-', label='Inserting row-by-row: add_result only')\n",
    "ax.plot(sizes, t_array, 'd-', label='Inserting as binary blob')\n",
    "ax.plot(sizes, t_array_add, 'd-', label='Inserting as binary blob: add_result only')\n",
    "ax.legend()\n",
    "ax.set_xlabel('Array length')\n",
    "ax.set_ylabel('Time (s)')\n",
    "fig.tight_layout()"
   ]
  },
  {
   "cell_type": "markdown",
   "metadata": {},
   "source": [
    "As shown in the latter figure, the time to setup and and close the experiment is approximately 0.4 sec. In case of small array sizes, the difference between inserting values of data as arrays and inserting them row-by-row is relatively unimportant. At larger array sizes, i.e. above 10000 points, the cost of writing data as individual datapoints starts to become important.\n"
   ]
  },
  {
   "cell_type": "markdown",
   "metadata": {},
   "source": [
    "### Case2: Long experiment time "
   ]
  },
  {
   "cell_type": "code",
   "execution_count": 7,
   "metadata": {
    "execution": {
     "iopub.execute_input": "2022-07-01T14:53:27.576735Z",
     "iopub.status.busy": "2022-07-01T14:53:27.576377Z",
     "iopub.status.idle": "2022-07-01T14:54:02.926953Z",
     "shell.execute_reply": "2022-07-01T14:54:02.926283Z"
    }
   },
   "outputs": [
    {
     "name": "stdout",
     "output_type": "stream",
     "text": [
      "Starting experimental run with id: 15. \n",
      "Starting experimental run with id: 16. \n"
     ]
    },
    {
     "name": "stdout",
     "output_type": "stream",
     "text": [
      "Starting experimental run with id: 17. \n"
     ]
    },
    {
     "name": "stdout",
     "output_type": "stream",
     "text": [
      "Starting experimental run with id: 18. \n",
      "Starting experimental run with id: 19. \n"
     ]
    },
    {
     "name": "stdout",
     "output_type": "stream",
     "text": [
      "Starting experimental run with id: 20. \n",
      "Starting experimental run with id: 21. \n"
     ]
    },
    {
     "name": "stdout",
     "output_type": "stream",
     "text": [
      "Starting experimental run with id: 22. \n",
      "Starting experimental run with id: 23. \n"
     ]
    },
    {
     "name": "stdout",
     "output_type": "stream",
     "text": [
      "Starting experimental run with id: 24. \n"
     ]
    },
    {
     "name": "stdout",
     "output_type": "stream",
     "text": [
      "Starting experimental run with id: 25. \n"
     ]
    },
    {
     "name": "stdout",
     "output_type": "stream",
     "text": [
      "Starting experimental run with id: 26. \n"
     ]
    },
    {
     "name": "stdout",
     "output_type": "stream",
     "text": [
      "Starting experimental run with id: 27. \n"
     ]
    },
    {
     "name": "stdout",
     "output_type": "stream",
     "text": [
      "Starting experimental run with id: 28. \n"
     ]
    }
   ],
   "source": [
    "sizes = [1,500,1000,2000,3000,4000,5000]\n",
    "nreps = 100\n",
    "t_numeric = []\n",
    "t_numeric_add = []\n",
    "t_numeric_run_ids = []\n",
    "t_array = []\n",
    "t_array_add = []\n",
    "t_array_run_ids = []\n",
    "for size in sizes:\n",
    "    tn, tna, run_id_n =  insert_data('numeric', size, nreps=nreps)\n",
    "    t_numeric.append(tn)\n",
    "    t_numeric_add.append(tna)\n",
    "    t_numeric_run_ids.append(run_id_n)\n",
    "\n",
    "    ta, taa, run_id_a =  insert_data('array', size, nreps=nreps)\n",
    "    t_array.append(ta)\n",
    "    t_array_add.append(taa)\n",
    "    t_array_run_ids.append(run_id_a)"
   ]
  },
  {
   "cell_type": "code",
   "execution_count": 8,
   "metadata": {
    "execution": {
     "iopub.execute_input": "2022-07-01T14:54:02.930336Z",
     "iopub.status.busy": "2022-07-01T14:54:02.930098Z",
     "iopub.status.idle": "2022-07-01T14:54:03.065108Z",
     "shell.execute_reply": "2022-07-01T14:54:03.064512Z"
    },
    "scrolled": true
   },
   "outputs": [
    {
     "data": {
      "image/png": "[encoded data removed]",
      "text/plain": [
       "<Figure size 432x288 with 1 Axes>"
      ]
     },
     "metadata": {
      "needs_background": "light"
     },
     "output_type": "display_data"
    }
   ],
   "source": [
    "fig, ax = plt.subplots(1,1)\n",
    "ax.plot(sizes, t_numeric, 'o-', label='Inserting row-by-row')\n",
    "ax.plot(sizes, t_numeric_add, 'o-', label='Inserting row-by-row: add_result only')\n",
    "ax.plot(sizes, t_array, 'd-', label='Inserting as binary blob')\n",
    "ax.plot(sizes, t_array_add, 'd-', label='Inserting as binary blob: add_result only')\n",
    "ax.legend()\n",
    "ax.set_xlabel('Array length')\n",
    "ax.set_ylabel('Time (s)')\n",
    "fig.tight_layout()"
   ]
  },
  {
   "cell_type": "markdown",
   "metadata": {},
   "source": [
    "However, as we increase the length of the experiment, as seen here by repeating the insertion 100 times, we see a big difference between inserting values of the data row-by-row and inserting it as a binary blob."
   ]
  },
  {
   "cell_type": "markdown",
   "metadata": {},
   "source": [
    "## Loading the data "
   ]
  },
  {
   "cell_type": "code",
   "execution_count": 9,
   "metadata": {
    "execution": {
     "iopub.execute_input": "2022-07-01T14:54:03.068768Z",
     "iopub.status.busy": "2022-07-01T14:54:03.068531Z",
     "iopub.status.idle": "2022-07-01T14:54:03.072964Z",
     "shell.execute_reply": "2022-07-01T14:54:03.072388Z"
    }
   },
   "outputs": [],
   "source": [
    "from qcodes.dataset.data_set import load_by_id"
   ]
  },
  {
   "cell_type": "markdown",
   "metadata": {},
   "source": [
    "As usual you can load the data by using the ``load_by_id`` function but you will notice that the different storage methods\n",
    "are reflected in shape of the data as it is retrieved. "
   ]
  },
  {
   "cell_type": "code",
   "execution_count": 10,
   "metadata": {
    "execution": {
     "iopub.execute_input": "2022-07-01T14:54:03.076299Z",
     "iopub.status.busy": "2022-07-01T14:54:03.075959Z",
     "iopub.status.idle": "2022-07-01T14:54:03.080675Z",
     "shell.execute_reply": "2022-07-01T14:54:03.079770Z"
    }
   },
   "outputs": [],
   "source": [
    "run_id_n = t_numeric_run_ids[0]\n",
    "run_id_a = t_array_run_ids[0]"
   ]
  },
  {
   "cell_type": "code",
   "execution_count": 11,
   "metadata": {
    "execution": {
     "iopub.execute_input": "2022-07-01T14:54:03.083220Z",
     "iopub.status.busy": "2022-07-01T14:54:03.083007Z",
     "iopub.status.idle": "2022-07-01T14:54:03.091629Z",
     "shell.execute_reply": "2022-07-01T14:54:03.090992Z"
    },
    "scrolled": true
   },
   "outputs": [
    {
     "data": {
      "text/plain": [
       "{'x1': {'x1': array([0.01346573, 0.01346573, 0.8432185 , 0.8432185 , 0.08071499,\n",
       "         0.08071499, 0.82926901, 0.82926901, 0.37114735, 0.37114735,\n",
       "         0.85179036, 0.85179036, 0.72814874, 0.72814874, 0.5327098 ,\n",
       "         0.5327098 , 0.4667212 , 0.4667212 , 0.81347027, 0.81347027,\n",
       "         0.51841558, 0.51841558, 0.43342339, 0.43342339, 0.96265911,\n",
       "         0.96265911, 0.83824878, 0.83824878, 0.94317987, 0.94317987,\n",
       "         0.91746835, 0.91746835, 0.0491853 , 0.0491853 , 0.4221663 ,\n",
       "         0.4221663 , 0.53719481, 0.53719481, 0.74621705, 0.74621705,\n",
       "         0.33580721, 0.33580721, 0.9753307 , 0.9753307 , 0.77717915,\n",
       "         0.77717915, 0.06106411, 0.06106411, 0.1281455 , 0.1281455 ,\n",
       "         0.44580944, 0.44580944, 0.0824832 , 0.0824832 , 0.90812735,\n",
       "         0.90812735, 0.90853343, 0.90853343, 0.99960267, 0.99960267,\n",
       "         0.2975469 , 0.2975469 , 0.59558917, 0.59558917, 0.40758156,\n",
       "         0.40758156, 0.14955556, 0.14955556, 0.01821124, 0.01821124,\n",
       "         0.87748426, 0.87748426, 0.22188407, 0.22188407, 0.7862608 ,\n",
       "         0.7862608 , 0.28996349, 0.28996349, 0.59894537, 0.59894537,\n",
       "         0.31179838, 0.31179838, 0.89873094, 0.89873094, 0.91641634,\n",
       "         0.91641634, 0.37623725, 0.37623725, 0.06564658, 0.06564658,\n",
       "         0.63482662, 0.63482662, 0.12172576, 0.12172576, 0.74165676,\n",
       "         0.74165676, 0.8634362 , 0.8634362 , 0.07471977, 0.07471977,\n",
       "         0.37186142, 0.37186142, 0.61430332, 0.61430332, 0.67566345,\n",
       "         0.67566345, 0.96140762, 0.96140762, 0.70376986, 0.70376986,\n",
       "         0.54480584, 0.54480584, 0.94810448, 0.94810448, 0.39819477,\n",
       "         0.39819477, 0.22487531, 0.22487531, 0.34197173, 0.34197173,\n",
       "         0.1601389 , 0.1601389 , 0.19068002, 0.19068002, 0.84497352,\n",
       "         0.84497352, 0.86952449, 0.86952449, 0.33056892, 0.33056892,\n",
       "         0.61211073, 0.61211073, 0.66149723, 0.66149723, 0.07183546,\n",
       "         0.07183546, 0.25839494, 0.25839494, 0.83463609, 0.83463609,\n",
       "         0.39691771, 0.39691771, 0.07244563, 0.07244563, 0.48459465,\n",
       "         0.48459465, 0.99709613, 0.99709613, 0.03866557, 0.03866557,\n",
       "         0.26049027, 0.26049027, 0.58867165, 0.58867165, 0.19855127,\n",
       "         0.19855127, 0.65397625, 0.65397625, 0.95550617, 0.95550617,\n",
       "         0.53514686, 0.53514686, 0.43831907, 0.43831907, 0.06514858,\n",
       "         0.06514858, 0.8712124 , 0.8712124 , 0.07168781, 0.07168781,\n",
       "         0.62566845, 0.62566845, 0.15661193, 0.15661193, 0.57482874,\n",
       "         0.57482874, 0.50089445, 0.50089445, 0.47171968, 0.47171968,\n",
       "         0.9717618 , 0.9717618 , 0.54782214, 0.54782214, 0.72480658,\n",
       "         0.72480658, 0.17813286, 0.17813286, 0.64681186, 0.64681186,\n",
       "         0.13805777, 0.13805777, 0.33153965, 0.33153965, 0.83568035,\n",
       "         0.83568035, 0.29816295, 0.29816295, 0.05082316, 0.05082316])}}"
      ]
     },
     "execution_count": 11,
     "metadata": {},
     "output_type": "execute_result"
    }
   ],
   "source": [
    "ds = load_by_id(run_id_n)\n",
    "ds.get_parameter_data('x1')"
   ]
  },
  {
   "cell_type": "markdown",
   "metadata": {},
   "source": [
    "And a dataset stored as binary arrays"
   ]
  },
  {
   "cell_type": "code",
   "execution_count": 12,
   "metadata": {
    "execution": {
     "iopub.execute_input": "2022-07-01T14:54:03.094533Z",
     "iopub.status.busy": "2022-07-01T14:54:03.094322Z",
     "iopub.status.idle": "2022-07-01T14:54:03.137719Z",
     "shell.execute_reply": "2022-07-01T14:54:03.137082Z"
    },
    "scrolled": true
   },
   "outputs": [
    {
     "data": {
      "text/plain": [
       "{'x1': {'x1': array([[0.30913285],\n",
       "         [0.30913285],\n",
       "         [0.31824056],\n",
       "         [0.31824056],\n",
       "         [0.82218038],\n",
       "         [0.82218038],\n",
       "         [0.6753658 ],\n",
       "         [0.6753658 ],\n",
       "         [0.56556494],\n",
       "         [0.56556494],\n",
       "         [0.72976881],\n",
       "         [0.72976881],\n",
       "         [0.67597207],\n",
       "         [0.67597207],\n",
       "         [0.72848964],\n",
       "         [0.72848964],\n",
       "         [0.30639625],\n",
       "         [0.30639625],\n",
       "         [0.38798129],\n",
       "         [0.38798129],\n",
       "         [0.68009059],\n",
       "         [0.68009059],\n",
       "         [0.1879681 ],\n",
       "         [0.1879681 ],\n",
       "         [0.33886652],\n",
       "         [0.33886652],\n",
       "         [0.80202562],\n",
       "         [0.80202562],\n",
       "         [0.58778956],\n",
       "         [0.58778956],\n",
       "         [0.65183972],\n",
       "         [0.65183972],\n",
       "         [0.95386294],\n",
       "         [0.95386294],\n",
       "         [0.21441348],\n",
       "         [0.21441348],\n",
       "         [0.05193749],\n",
       "         [0.05193749],\n",
       "         [0.09731245],\n",
       "         [0.09731245],\n",
       "         [0.13418259],\n",
       "         [0.13418259],\n",
       "         [0.14194028],\n",
       "         [0.14194028],\n",
       "         [0.07980188],\n",
       "         [0.07980188],\n",
       "         [0.95327752],\n",
       "         [0.95327752],\n",
       "         [0.900506  ],\n",
       "         [0.900506  ],\n",
       "         [0.69603282],\n",
       "         [0.69603282],\n",
       "         [0.37128089],\n",
       "         [0.37128089],\n",
       "         [0.92003015],\n",
       "         [0.92003015],\n",
       "         [0.4481168 ],\n",
       "         [0.4481168 ],\n",
       "         [0.31179849],\n",
       "         [0.31179849],\n",
       "         [0.64601218],\n",
       "         [0.64601218],\n",
       "         [0.04829135],\n",
       "         [0.04829135],\n",
       "         [0.90663841],\n",
       "         [0.90663841],\n",
       "         [0.1878819 ],\n",
       "         [0.1878819 ],\n",
       "         [0.41785743],\n",
       "         [0.41785743],\n",
       "         [0.46853813],\n",
       "         [0.46853813],\n",
       "         [0.48795281],\n",
       "         [0.48795281],\n",
       "         [0.98346393],\n",
       "         [0.98346393],\n",
       "         [0.38163253],\n",
       "         [0.38163253],\n",
       "         [0.94890564],\n",
       "         [0.94890564],\n",
       "         [0.11643892],\n",
       "         [0.11643892],\n",
       "         [0.31667163],\n",
       "         [0.31667163],\n",
       "         [0.74981608],\n",
       "         [0.74981608],\n",
       "         [0.66474571],\n",
       "         [0.66474571],\n",
       "         [0.87071527],\n",
       "         [0.87071527],\n",
       "         [0.29439328],\n",
       "         [0.29439328],\n",
       "         [0.63717439],\n",
       "         [0.63717439],\n",
       "         [0.14130455],\n",
       "         [0.14130455],\n",
       "         [0.19906482],\n",
       "         [0.19906482],\n",
       "         [0.34356463],\n",
       "         [0.34356463],\n",
       "         [0.14277711],\n",
       "         [0.14277711],\n",
       "         [0.89398716],\n",
       "         [0.89398716],\n",
       "         [0.04054561],\n",
       "         [0.04054561],\n",
       "         [0.87474202],\n",
       "         [0.87474202],\n",
       "         [0.30260937],\n",
       "         [0.30260937],\n",
       "         [0.88512918],\n",
       "         [0.88512918],\n",
       "         [0.04696474],\n",
       "         [0.04696474],\n",
       "         [0.01594667],\n",
       "         [0.01594667],\n",
       "         [0.64793833],\n",
       "         [0.64793833],\n",
       "         [0.61376341],\n",
       "         [0.61376341],\n",
       "         [0.5280676 ],\n",
       "         [0.5280676 ],\n",
       "         [0.76860908],\n",
       "         [0.76860908],\n",
       "         [0.97932637],\n",
       "         [0.97932637],\n",
       "         [0.0772994 ],\n",
       "         [0.0772994 ],\n",
       "         [0.28047965],\n",
       "         [0.28047965],\n",
       "         [0.54350451],\n",
       "         [0.54350451],\n",
       "         [0.770824  ],\n",
       "         [0.770824  ],\n",
       "         [0.27147099],\n",
       "         [0.27147099],\n",
       "         [0.03751226],\n",
       "         [0.03751226],\n",
       "         [0.65895933],\n",
       "         [0.65895933],\n",
       "         [0.63358615],\n",
       "         [0.63358615],\n",
       "         [0.21091822],\n",
       "         [0.21091822],\n",
       "         [0.88667308],\n",
       "         [0.88667308],\n",
       "         [0.71423018],\n",
       "         [0.71423018],\n",
       "         [0.64167674],\n",
       "         [0.64167674],\n",
       "         [0.46542636],\n",
       "         [0.46542636],\n",
       "         [0.79486003],\n",
       "         [0.79486003],\n",
       "         [0.83735581],\n",
       "         [0.83735581],\n",
       "         [0.32039545],\n",
       "         [0.32039545],\n",
       "         [0.16688128],\n",
       "         [0.16688128],\n",
       "         [0.71683849],\n",
       "         [0.71683849],\n",
       "         [0.11780032],\n",
       "         [0.11780032],\n",
       "         [0.6924127 ],\n",
       "         [0.6924127 ],\n",
       "         [0.4168249 ],\n",
       "         [0.4168249 ],\n",
       "         [0.5715653 ],\n",
       "         [0.5715653 ],\n",
       "         [0.61755778],\n",
       "         [0.61755778],\n",
       "         [0.72665461],\n",
       "         [0.72665461],\n",
       "         [0.68600566],\n",
       "         [0.68600566],\n",
       "         [0.83585606],\n",
       "         [0.83585606],\n",
       "         [0.28176351],\n",
       "         [0.28176351],\n",
       "         [0.75446735],\n",
       "         [0.75446735],\n",
       "         [0.72062123],\n",
       "         [0.72062123],\n",
       "         [0.12449837],\n",
       "         [0.12449837],\n",
       "         [0.63130581],\n",
       "         [0.63130581],\n",
       "         [0.69580866],\n",
       "         [0.69580866],\n",
       "         [0.16088049],\n",
       "         [0.16088049],\n",
       "         [0.44421616],\n",
       "         [0.44421616],\n",
       "         [0.96281966],\n",
       "         [0.96281966],\n",
       "         [0.44780501],\n",
       "         [0.44780501],\n",
       "         [0.60527775],\n",
       "         [0.60527775]])}}"
      ]
     },
     "execution_count": 12,
     "metadata": {},
     "output_type": "execute_result"
    }
   ],
   "source": [
    "ds = load_by_id(run_id_a)\n",
    "ds.get_parameter_data('x1')"
   ]
  },
  {
   "cell_type": "code",
   "execution_count": null,
   "metadata": {},
   "outputs": [],
   "source": []
  }
 ],
 "metadata": {
  "kernelspec": {
   "display_name": "Python 3",
   "language": "python",
   "name": "python3"
  },
  "language_info": {
   "codemirror_mode": {
    "name": "ipython",
    "version": 3
   },
   "file_extension": ".py",
   "mimetype": "text/x-python",
   "name": "python",
   "nbconvert_exporter": "python",
   "pygments_lexer": "ipython3",
   "version": "3.9.13"
  },
  "nbsphinx": {
   "timeout": 600
  },
  "toc": {
   "base_numbering": 1,
   "nav_menu": {},
   "number_sections": true,
   "sideBar": true,
   "skip_h1_title": false,
   "title_cell": "Table of Contents",
   "title_sidebar": "Contents",
   "toc_cell": false,
   "toc_position": {},
   "toc_section_display": true,
   "toc_window_display": false
  },
  "varInspector": {
   "cols": {
    "lenName": 16,
    "lenType": 16,
    "lenVar": 40
   },
   "kernels_config": {
    "python": {
     "delete_cmd_postfix": "",
     "delete_cmd_prefix": "del ",
     "library": "var_list.py",
     "varRefreshCmd": "print(var_dic_list())"
    },
    "r": {
     "delete_cmd_postfix": ") ",
     "delete_cmd_prefix": "rm(",
     "library": "var_list.r",
     "varRefreshCmd": "cat(var_dic_list()) "
    }
   },
   "types_to_exclude": [
    "module",
    "function",
    "builtin_function_or_method",
    "instance",
    "_Feature"
   ],
   "window_display": false
  }
 },
 "nbformat": 4,
 "nbformat_minor": 4
}
